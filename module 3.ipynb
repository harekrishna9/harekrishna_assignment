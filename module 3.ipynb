{
 "cells": [
  {
   "cell_type": "code",
   "execution_count": 1,
   "id": "98f82104",
   "metadata": {},
   "outputs": [
    {
     "name": "stdout",
     "output_type": "stream",
     "text": [
      "[9, 8, 6, 2, 5, 1]\n"
     ]
    }
   ],
   "source": [
    "#ans1\n",
    "#A list is a data structure in python that is a mutable, or changeable, ordered sequence of elements.\n",
    "list1=[1,5,2,6,8,9]\n",
    "list1.reverse()\n",
    "print(list1)"
   ]
  },
  {
   "cell_type": "code",
   "execution_count": 3,
   "id": "c68b660f",
   "metadata": {},
   "outputs": [
    {
     "name": "stdout",
     "output_type": "stream",
     "text": [
      "[5, 6, 8, 9, 7]\n"
     ]
    }
   ],
   "source": [
    "#ans2 \n",
    "list2=[5,6,8,9,7,2]\n",
    "list2.pop()\n",
    "print(list2)"
   ]
  },
  {
   "cell_type": "code",
   "execution_count": 4,
   "id": "1baf9ded",
   "metadata": {},
   "outputs": [
    {
     "data": {
      "text/plain": [
       "25"
      ]
     },
     "execution_count": 4,
     "metadata": {},
     "output_type": "execute_result"
    }
   ],
   "source": [
    "#ans3\n",
    "list1=[2,33,222,14,25]\n",
    "list1[-1]"
   ]
  },
  {
   "cell_type": "code",
   "execution_count": 5,
   "id": "c624b72d",
   "metadata": {},
   "outputs": [
    {
     "name": "stdout",
     "output_type": "stream",
     "text": [
      "[1, 5, 2, 6, 'nitin']\n",
      "[5, 6, 8, 9]\n"
     ]
    }
   ],
   "source": [
    "#ans 4\n",
    "#append = adds ELEMENT AT THE LAST INDEX .\n",
    "#EXAMPLE\n",
    "list1 = [1,5,2,6]\n",
    "list1.append('nitin')\n",
    "print(list1)\n",
    "#extend = odds iterable at the last index.\n",
    "#example\n",
    "list2 = [5,6,8,9]\n",
    "list1.extend('nitin')\n",
    "print(list2)"
   ]
  },
  {
   "cell_type": "code",
   "execution_count": 10,
   "id": "ae7de7e5",
   "metadata": {},
   "outputs": [
    {
     "name": "stdout",
     "output_type": "stream",
     "text": [
      "largest number 66\n",
      "smallest number 5\n"
     ]
    }
   ],
   "source": [
    "#ans 5\n",
    "#get the largest number \n",
    "list1=[5,6,9,8,55,22,66,42,36]\n",
    "list1.sort()\n",
    "print('largest number',list1[-1])\n",
    "print('smallest number',list1[0])"
   ]
  },
  {
   "cell_type": "code",
   "execution_count": 7,
   "id": "66b6ea6a",
   "metadata": {},
   "outputs": [
    {
     "name": "stdout",
     "output_type": "stream",
     "text": [
      "list and list2 are equal\n"
     ]
    }
   ],
   "source": [
    "#and 6\n",
    "list1 = [1,2,5,6]\n",
    "list2 = [1,2,5,6]\n",
    "if list1==list2:\n",
    "    print('list and list2 are equal')\n",
    "else:\n",
    "    print('list1 and list2 are not equal')\n",
    "    "
   ]
  },
  {
   "cell_type": "code",
   "execution_count": 14,
   "id": "9dca0395",
   "metadata": {},
   "outputs": [
    {
     "name": "stdout",
     "output_type": "stream",
     "text": [
      "nitin\n"
     ]
    }
   ],
   "source": [
    "#ans 7\n",
    "listt = ['nitin','saini','student','nn','n']\n",
    "for i in listt:\n",
    "    if len(i)>2:\n",
    "        if i [0]==i[-1]:\n",
    "            print(i)"
   ]
  },
  {
   "cell_type": "code",
   "execution_count": 15,
   "id": "bb00be40",
   "metadata": {},
   "outputs": [
    {
     "data": {
      "text/plain": [
       "{1, 3, 5, 8, 9}"
      ]
     },
     "execution_count": 15,
     "metadata": {},
     "output_type": "execute_result"
    }
   ],
   "source": [
    "#ans8\n",
    "list1=[1,5,8,9,9,9,9,3,5]\n",
    "set(list1)"
   ]
  },
  {
   "cell_type": "code",
   "execution_count": 16,
   "id": "21ad359f",
   "metadata": {},
   "outputs": [
    {
     "name": "stdout",
     "output_type": "stream",
     "text": [
      "list is empty\n"
     ]
    }
   ],
   "source": [
    "#ans9\n",
    "list1 = []\n",
    "if len(list1)==0:\n",
    "    print('list is empty')\n",
    "else:\n",
    "    print('list is not empty')"
   ]
  },
  {
   "cell_type": "code",
   "execution_count": 17,
   "id": "edb93125",
   "metadata": {},
   "outputs": [
    {
     "name": "stdout",
     "output_type": "stream",
     "text": [
      "True\n"
     ]
    }
   ],
   "source": [
    "#ans-10\n",
    "list1 = [1,2,6,7,3,4,8,9,10,55]\n",
    "list2 = [1,6,7,9,2,3,4,8,10,55]\n",
    "ans = False\n",
    "for i in list1:\n",
    "    if i in list1:\n",
    "        if i in list2:\n",
    "            continue\n",
    "        else:\n",
    "            print(ans)\n",
    "            break \n",
    "else:\n",
    "    ans = True\n",
    "    print(ans)"
   ]
  },
  {
   "cell_type": "code",
   "execution_count": 19,
   "id": "6338c182",
   "metadata": {},
   "outputs": [
    {
     "name": "stdout",
     "output_type": "stream",
     "text": [
      "1\n",
      "4\n",
      "27\n",
      "256\n",
      "3125\n",
      "6156119580207157310796674288400203776\n",
      "443426488243037769948249630619149892803\n",
      "33145523113253374862572728253364605812736\n",
      "2567686153161211134561828214731016126483469\n",
      "205891132094649000000000000000000000000000000\n"
     ]
    }
   ],
   "source": [
    "#ans11\n",
    "listtt = [1,2,3,4,5,26,27,28,29,30]\n",
    "for i in listtt:\n",
    "    a= (i**i)\n",
    "    print (a)\n",
    "    "
   ]
  },
  {
   "cell_type": "code",
   "execution_count": 21,
   "id": "b4f0d338",
   "metadata": {},
   "outputs": [
    {
     "data": {
      "text/plain": [
       "[1, 6, 7, 9, 2, 3, 4, 8, 10, 55]"
      ]
     },
     "execution_count": 21,
     "metadata": {},
     "output_type": "execute_result"
    }
   ],
   "source": [
    "#ans12\n",
    "list1 = [5,2,8,9,5,5,5,6,6,6,6,7,7,7]\n",
    "list1 = set(list1)\n",
    "x = list(list2)\n",
    "list(x)\n"
   ]
  },
  {
   "cell_type": "code",
   "execution_count": 28,
   "id": "4792393e",
   "metadata": {},
   "outputs": [
    {
     "name": "stdout",
     "output_type": "stream",
     "text": [
      "nitin\n"
     ]
    }
   ],
   "source": [
    "#ans13\n",
    "list1 = ['n','i','t','i','n']\n",
    "str1 = ''\n",
    "for i in list1:\n",
    "    str1+= i \n",
    "print(str1)\n"
   ]
  },
  {
   "cell_type": "code",
   "execution_count": null,
   "id": "900b65ff",
   "metadata": {},
   "outputs": [],
   "source": [
    "#ans= 14\n",
    "list1 = [1,8,9,5,66,88,75,95]\n",
    "#sir x\n"
   ]
  },
  {
   "cell_type": "code",
   "execution_count": 29,
   "id": "f9188a9d",
   "metadata": {},
   "outputs": [
    {
     "name": "stdout",
     "output_type": "stream",
     "text": [
      "6\n"
     ]
    }
   ],
   "source": [
    "#ans 15\n",
    "list1 = [5,6,8,9,88,75,95]\n",
    "list1.sort()\n",
    "print(list1[1])"
   ]
  },
  {
   "cell_type": "code",
   "execution_count": 32,
   "id": "d639f8d4",
   "metadata": {},
   "outputs": [
    {
     "name": "stdout",
     "output_type": "stream",
     "text": [
      "{5, 6, 8, 9, 55}\n"
     ]
    }
   ],
   "source": [
    "#ans16\n",
    "list1_list1 = [5,6,5,6,5,9,5,8,55,6,9,5,8,5,5,5]\n",
    "list2_list2 = set (list1_list1)\n",
    "print (list2_list2)"
   ]
  },
  {
   "cell_type": "code",
   "execution_count": null,
   "id": "0ac4456c",
   "metadata": {},
   "outputs": [],
   "source": [
    "#ans 17\n",
    "list1 = ['nitin',{1,2,5,6},[1,5,6,6],50,5.0]\n",
    "for i in list1:\n",
    "    if type (i)==list:\n",
    "        print(i,'True')\n",
    "        break\n",
    "else:\n",
    "    print(False)\n",
    "    "
   ]
  },
  {
   "cell_type": "code",
   "execution_count": 33,
   "id": "05eafda6",
   "metadata": {},
   "outputs": [
    {
     "name": "stdout",
     "output_type": "stream",
     "text": [
      "[5, 6, 8, 9, 75, 88, 95] [1, 2, 3, 4, 5]\n"
     ]
    }
   ],
   "source": [
    "#ans 18\n",
    "listt = [1,2,3,4,5,6,7,8,9,10]\n",
    "listt = listt[:5]\n",
    "list2 = listt[-5:]\n",
    "print(list1,list2)"
   ]
  },
  {
   "cell_type": "code",
   "execution_count": null,
   "id": "8090325a",
   "metadata": {},
   "outputs": [],
   "source": [
    "#ans 19\n",
    "tuple:-ordered, indexed,immutable,allow duplicate values, you can store almost datatype.\n",
    "    #difference btw tuple ans list:-\n",
    "    #list:-a list is data structure in python that is mutable, or changeble , ordered sequence of elements .\n",
    "    #tuple:-ordered, indexed , immutable , allow duplicate values, you can store almost all datatypes "
   ]
  },
  {
   "cell_type": "code",
   "execution_count": 38,
   "id": "c3942f6d",
   "metadata": {},
   "outputs": [
    {
     "name": "stdout",
     "output_type": "stream",
     "text": [
      "(15, 5.0, [1, 2, 3], {1, 5, 6}, {1: 2, 2: 3}, 'nitin', True, (1, 5, 6))\n"
     ]
    }
   ],
   "source": [
    "#ans20\n",
    "tuple1 = (15,5.0,[1,2,3],{1,5,6},{1:2,2:3},'nitin',True,(1,5,6))\n",
    "print(tuple1)"
   ]
  },
  {
   "cell_type": "code",
   "execution_count": 39,
   "id": "75dbb467",
   "metadata": {},
   "outputs": [
    {
     "name": "stdout",
     "output_type": "stream",
     "text": [
      "(5, 10, 23, 20)\n"
     ]
    }
   ],
   "source": [
    "#ans20\n",
    "tuple1 = 5,10,23,20\n",
    "print(tuple1)"
   ]
  },
  {
   "cell_type": "code",
   "execution_count": 40,
   "id": "f5a29bba",
   "metadata": {},
   "outputs": [
    {
     "name": "stdout",
     "output_type": "stream",
     "text": [
      "nitin\n"
     ]
    }
   ],
   "source": [
    "#ans22\n",
    "tuplee = ('n','i','t','i','n')\n",
    "str1 = ''\n",
    "for i in tuplee:\n",
    "    str1 +=i\n",
    "print(str1)"
   ]
  },
  {
   "cell_type": "code",
   "execution_count": null,
   "id": "cf81d366",
   "metadata": {},
   "outputs": [],
   "source": [
    "#ans23\n",
    "tuple_1 = (5,8,9,6,3,'n','t')\n",
    "print(5S in tuple_1)"
   ]
  },
  {
   "cell_type": "code",
   "execution_count": 41,
   "id": "1e121026",
   "metadata": {},
   "outputs": [
    {
     "data": {
      "text/plain": [
       "7"
      ]
     },
     "execution_count": 41,
     "metadata": {},
     "output_type": "execute_result"
    }
   ],
   "source": [
    "#ans = 24\n",
    "tuple1 = (1,5,8,9,8,'nitin',[1,5,6,2])\n",
    "len(tuple1)"
   ]
  },
  {
   "cell_type": "code",
   "execution_count": 42,
   "id": "949890c3",
   "metadata": {},
   "outputs": [
    {
     "name": "stdout",
     "output_type": "stream",
     "text": [
      "(1, 5, 8, 9, 5, 6, 'nitin')\n"
     ]
    }
   ],
   "source": [
    "#ans25\n",
    "list1 = [1,5,8,9,5,6,'nitin']\n",
    "tuple1 = tuple(list1)\n",
    "print(tuple1)\n"
   ]
  },
  {
   "cell_type": "code",
   "execution_count": null,
   "id": "a0ea5520",
   "metadata": {},
   "outputs": [],
   "source": [
    "#ans26\n",
    "tuple1 = (1,5,9,'ns',56,5.2)\n",
    "a = list (tuple1)\n",
    "a.reverse()\n",
    "b = tuple(a)\n",
    "print (a)\n"
   ]
  },
  {
   "cell_type": "code",
   "execution_count": 43,
   "id": "8dd8f1d1",
   "metadata": {},
   "outputs": [
    {
     "ename": "TypeError",
     "evalue": "can't multiply sequence by non-int of type 'tuple'",
     "output_type": "error",
     "traceback": [
      "\u001b[0;31m---------------------------------------------------------------------------\u001b[0m",
      "\u001b[0;31mTypeError\u001b[0m                                 Traceback (most recent call last)",
      "Input \u001b[0;32mIn [43]\u001b[0m, in \u001b[0;36m<cell line: 3>\u001b[0;34m()\u001b[0m\n\u001b[1;32m      1\u001b[0m \u001b[38;5;66;03m#ans 27\u001b[39;00m\n\u001b[1;32m      2\u001b[0m tuple1 \u001b[38;5;241m=\u001b[39m[(\u001b[38;5;241m1\u001b[39m,\u001b[38;5;241m5\u001b[39m,\u001b[38;5;241m5\u001b[39m,\u001b[38;5;241m6\u001b[39m,\u001b[38;5;241m6\u001b[39m,\u001b[38;5;241m7\u001b[39m,\u001b[38;5;241m8\u001b[39m,\u001b[38;5;241m9\u001b[39m)]\n\u001b[0;32m----> 3\u001b[0m \u001b[38;5;28mprint\u001b[39m([t[:\u001b[38;5;241m-\u001b[39m\u001b[38;5;241m1\u001b[39m]\u001b[38;5;241m*\u001b[39m(\u001b[38;5;241m100\u001b[39m,)\u001b[38;5;28;01mfor\u001b[39;00m t \u001b[38;5;129;01min\u001b[39;00m tuple1])\n",
      "Input \u001b[0;32mIn [43]\u001b[0m, in \u001b[0;36m<listcomp>\u001b[0;34m(.0)\u001b[0m\n\u001b[1;32m      1\u001b[0m \u001b[38;5;66;03m#ans 27\u001b[39;00m\n\u001b[1;32m      2\u001b[0m tuple1 \u001b[38;5;241m=\u001b[39m[(\u001b[38;5;241m1\u001b[39m,\u001b[38;5;241m5\u001b[39m,\u001b[38;5;241m5\u001b[39m,\u001b[38;5;241m6\u001b[39m,\u001b[38;5;241m6\u001b[39m,\u001b[38;5;241m7\u001b[39m,\u001b[38;5;241m8\u001b[39m,\u001b[38;5;241m9\u001b[39m)]\n\u001b[0;32m----> 3\u001b[0m \u001b[38;5;28mprint\u001b[39m([\u001b[43mt\u001b[49m\u001b[43m[\u001b[49m\u001b[43m:\u001b[49m\u001b[38;5;241;43m-\u001b[39;49m\u001b[38;5;241;43m1\u001b[39;49m\u001b[43m]\u001b[49m\u001b[38;5;241;43m*\u001b[39;49m\u001b[43m(\u001b[49m\u001b[38;5;241;43m100\u001b[39;49m\u001b[43m,\u001b[49m\u001b[43m)\u001b[49m\u001b[38;5;28;01mfor\u001b[39;00m t \u001b[38;5;129;01min\u001b[39;00m tuple1])\n",
      "\u001b[0;31mTypeError\u001b[0m: can't multiply sequence by non-int of type 'tuple'"
     ]
    }
   ],
   "source": [
    "#ans 27\n",
    "tuple1 =[(1,5,5,6,6,7,8,9)]\n",
    "print([t[:-1]*(100,)for t in tuple1]) #pending sir batayenge"
   ]
  },
  {
   "cell_type": "code",
   "execution_count": 44,
   "id": "a03ff1ef",
   "metadata": {},
   "outputs": [
    {
     "data": {
      "text/plain": [
       "1"
      ]
     },
     "execution_count": 44,
     "metadata": {},
     "output_type": "execute_result"
    }
   ],
   "source": [
    "#ans28\n",
    "tuplee = (1,5,5,6,6,7,8,9)\n",
    "tuplee.count(8)\n"
   ]
  },
  {
   "cell_type": "code",
   "execution_count": 45,
   "id": "881cba8b",
   "metadata": {},
   "outputs": [
    {
     "name": "stdout",
     "output_type": "stream",
     "text": [
      "[('nitin',), ('iii',), (2, 5, 6, 4)]\n"
     ]
    }
   ],
   "source": [
    "#ans29\n",
    "tuplee = [('nitin',),(),(),('iii',),(),(),(2,5,6,4)]\n",
    "list1 = []\n",
    "for i in tuplee:\n",
    "    if len(i)!=0:\n",
    "        list1.append(i)\n",
    "print(list1)"
   ]
  },
  {
   "cell_type": "code",
   "execution_count": 46,
   "id": "c178c611",
   "metadata": {},
   "outputs": [
    {
     "name": "stdout",
     "output_type": "stream",
     "text": [
      "55 88 90\n"
     ]
    }
   ],
   "source": [
    "#ans 30\n",
    "a,b,c = (55,88,90)\n",
    "print(a,b,c)   #tuple unpacking(unzip)\n"
   ]
  },
  {
   "cell_type": "code",
   "execution_count": 48,
   "id": "761d4214",
   "metadata": {},
   "outputs": [
    {
     "ename": "TypeError",
     "evalue": "cannot convert dictionary update sequence element #1 to a sequence",
     "output_type": "error",
     "traceback": [
      "\u001b[0;31m---------------------------------------------------------------------------\u001b[0m",
      "\u001b[0;31mTypeError\u001b[0m                                 Traceback (most recent call last)",
      "Input \u001b[0;32mIn [48]\u001b[0m, in \u001b[0;36m<cell line: 3>\u001b[0;34m()\u001b[0m\n\u001b[1;32m      1\u001b[0m \u001b[38;5;66;03m#ans31\u001b[39;00m\n\u001b[1;32m      2\u001b[0m tuplee1 \u001b[38;5;241m=\u001b[39m [(\u001b[38;5;241m50\u001b[39m,\u001b[38;5;241m5\u001b[39m),(\u001b[38;5;241m66.6\u001b[39m),(\u001b[38;5;241m70.7\u001b[39m)]\n\u001b[0;32m----> 3\u001b[0m list2 \u001b[38;5;241m=\u001b[39m \u001b[38;5;28;43mdict\u001b[39;49m\u001b[43m(\u001b[49m\u001b[43mtuplee1\u001b[49m\u001b[43m)\u001b[49m\n\u001b[1;32m      4\u001b[0m \u001b[38;5;28mprint\u001b[39m(list2)\n",
      "\u001b[0;31mTypeError\u001b[0m: cannot convert dictionary update sequence element #1 to a sequence"
     ]
    }
   ],
   "source": [
    "#ans31\n",
    "tuplee1 = [(50,5),(66.6),(70.7)]\n",
    "list2 = dict(tuplee1)\n",
    "print(list2)"
   ]
  },
  {
   "cell_type": "code",
   "execution_count": 50,
   "id": "e5863095",
   "metadata": {},
   "outputs": [
    {
     "ename": "ValueError",
     "evalue": "dictionary update sequence element #0 has length 8; 2 is required",
     "output_type": "error",
     "traceback": [
      "\u001b[0;31m---------------------------------------------------------------------------\u001b[0m",
      "\u001b[0;31mValueError\u001b[0m                                Traceback (most recent call last)",
      "Input \u001b[0;32mIn [50]\u001b[0m, in \u001b[0;36m<cell line: 3>\u001b[0;34m()\u001b[0m\n\u001b[1;32m      1\u001b[0m \u001b[38;5;66;03m#ans32\u001b[39;00m\n\u001b[1;32m      2\u001b[0m \u001b[38;5;28mtuple\u001b[39m \u001b[38;5;241m=\u001b[39m ((\u001b[38;5;124m'\u001b[39m\u001b[38;5;124ma\u001b[39m\u001b[38;5;124m'\u001b[39m,\u001b[38;5;241m10\u001b[39m),(\u001b[38;5;124m'\u001b[39m\u001b[38;5;124mb\u001b[39m\u001b[38;5;124m'\u001b[39m,\u001b[38;5;241m20\u001b[39m),(\u001b[38;5;124m'\u001b[39m\u001b[38;5;124mc\u001b[39m\u001b[38;5;124m'\u001b[39m,\u001b[38;5;241m30\u001b[39m))\n\u001b[0;32m----> 3\u001b[0m \u001b[38;5;28;43mdict\u001b[39;49m\u001b[43m(\u001b[49m\u001b[43mtuple1\u001b[49m\u001b[43m)\u001b[49m\n",
      "\u001b[0;31mValueError\u001b[0m: dictionary update sequence element #0 has length 8; 2 is required"
     ]
    }
   ],
   "source": [
    "#ans32\n",
    "tuple = (('a',10),('b',20),('c',30))\n",
    "dict(tuple1)\n"
   ]
  },
  {
   "cell_type": "code",
   "execution_count": 54,
   "id": "85232118",
   "metadata": {},
   "outputs": [
    {
     "ename": "TypeError",
     "evalue": "'dict' object is not callable",
     "output_type": "error",
     "traceback": [
      "\u001b[0;31m---------------------------------------------------------------------------\u001b[0m",
      "\u001b[0;31mTypeError\u001b[0m                                 Traceback (most recent call last)",
      "Input \u001b[0;32mIn [54]\u001b[0m, in \u001b[0;36m<cell line: 3>\u001b[0;34m()\u001b[0m\n\u001b[1;32m      1\u001b[0m \u001b[38;5;66;03m#ans33\u001b[39;00m\n\u001b[1;32m      2\u001b[0m dict1 \u001b[38;5;241m=\u001b[39m {\u001b[38;5;124m'\u001b[39m\u001b[38;5;124ma\u001b[39m\u001b[38;5;124m'\u001b[39m:\u001b[38;5;241m90\u001b[39m,\u001b[38;5;124m'\u001b[39m\u001b[38;5;124mb\u001b[39m\u001b[38;5;124m'\u001b[39m:\u001b[38;5;241m50\u001b[39m,\u001b[38;5;124m'\u001b[39m\u001b[38;5;124mc\u001b[39m\u001b[38;5;124m'\u001b[39m:\u001b[38;5;241m-\u001b[39m\u001b[38;5;241m5\u001b[39m,\u001b[38;5;124m'\u001b[39m\u001b[38;5;124md\u001b[39m\u001b[38;5;124m'\u001b[39m:\u001b[38;5;241m2\u001b[39m}\n\u001b[0;32m----> 3\u001b[0m d1 \u001b[38;5;241m=\u001b[39m \u001b[38;5;28;43mdict\u001b[39;49m\u001b[43m(\u001b[49m\u001b[38;5;28;43msorted\u001b[39;49m\u001b[43m(\u001b[49m\u001b[43mdict1\u001b[49m\u001b[38;5;241;43m.\u001b[39;49m\u001b[43mitems\u001b[49m\u001b[43m(\u001b[49m\u001b[43m)\u001b[49m\u001b[43m,\u001b[49m\u001b[43mkey\u001b[49m\u001b[43m \u001b[49m\u001b[38;5;241;43m=\u001b[39;49m\u001b[43m \u001b[49m\u001b[38;5;28;43;01mlambda\u001b[39;49;00m\u001b[43m \u001b[49m\u001b[43ma\u001b[49m\u001b[43m \u001b[49m\u001b[43m:\u001b[49m\u001b[43m \u001b[49m\u001b[43ma\u001b[49m\u001b[43m[\u001b[49m\u001b[38;5;241;43m1\u001b[39;49m\u001b[43m]\u001b[49m\u001b[43m)\u001b[49m\u001b[43m)\u001b[49m\n\u001b[1;32m      4\u001b[0m d2 \u001b[38;5;241m=\u001b[39m \u001b[38;5;28mdict\u001b[39m(\u001b[38;5;28msorted\u001b[39m(dict1\u001b[38;5;241m.\u001b[39mitmes(),key\u001b[38;5;241m=\u001b[39m\u001b[38;5;28;01mlambda\u001b[39;00m a : a[\u001b[38;5;241m1\u001b[39m],reverse \u001b[38;5;241m=\u001b[39m \u001b[38;5;28;01mTrue\u001b[39;00m))\n\u001b[1;32m      5\u001b[0m \u001b[38;5;28mprint\u001b[39m(\u001b[38;5;124m'\u001b[39m\u001b[38;5;124maccending\u001b[39m\u001b[38;5;124m'\u001b[39m,d1,\u001b[38;5;124m'\u001b[39m\u001b[38;5;124mdecending\u001b[39m\u001b[38;5;124m'\u001b[39m,d2,sep \u001b[38;5;241m=\u001b[39m \u001b[38;5;124m'\u001b[39m\u001b[38;5;130;01m\\n\u001b[39;00m\u001b[38;5;124m'\u001b[39m)\n",
      "\u001b[0;31mTypeError\u001b[0m: 'dict' object is not callable"
     ]
    }
   ],
   "source": [
    "#ans33\n",
    "dict1 = {'a':90,'b':50,'c':-5,'d':2}\n",
    "d1 = dict(sorted(dict1.items(),key = lambda a : a[1]))\n",
    "d2 = dict(sorted(dict1.itmes(),key=lambda a : a[1],reverse = True))\n",
    "print('accending',d1,'decending',d2,sep = '\\n')"
   ]
  },
  {
   "cell_type": "code",
   "execution_count": 55,
   "id": "ae84fbbf",
   "metadata": {},
   "outputs": [
    {
     "name": "stdout",
     "output_type": "stream",
     "text": [
      "{1: 5, 5: 2}\n",
      "{1: 5, 5: 2, 2: 10, 3: 6}\n"
     ]
    }
   ],
   "source": [
    "#ans34\n",
    "dict1 = {1:5,5:2}\n",
    "dict2 = {2:10,3:6}\n",
    "dict3 = {}\n",
    "for d in (dict1,dict2):\n",
    "    dict3.update(d)\n",
    "    print(dict3)"
   ]
  },
  {
   "cell_type": "code",
   "execution_count": 58,
   "id": "1d4f443d",
   "metadata": {},
   "outputs": [
    {
     "name": "stdout",
     "output_type": "stream",
     "text": [
      "3\n",
      "3 does not exist\n"
     ]
    }
   ],
   "source": [
    "#ans 35\n",
    "dictt = {'a':5,'b':6,'c':7,'d':8}\n",
    "key = input()\n",
    "if key in dictt.keys():\n",
    "    print(key,'already exists')\n",
    "else:\n",
    "    print(key,'does not exist')"
   ]
  },
  {
   "cell_type": "code",
   "execution_count": null,
   "id": "95050a2a",
   "metadata": {},
   "outputs": [],
   "source": [
    "#ans 36"
   ]
  },
  {
   "cell_type": "code",
   "execution_count": 59,
   "id": "339dc7fb",
   "metadata": {},
   "outputs": [],
   "source": [
    "#ans 37\n",
    "dictt = {'a':5,'b':6,'c':7,'d':8}\n",
    "key = input()\n",
    "if key in dictt.keys():\n",
    "    print(key,'present')\n",
    "else:\n",
    "    print(key,'key not present')"
   ]
  },
  {
   "cell_type": "code",
   "execution_count": 61,
   "id": "8ba25244",
   "metadata": {},
   "outputs": [
    {
     "ename": "TypeError",
     "evalue": "'dict' object is not callable",
     "output_type": "error",
     "traceback": [
      "\u001b[0;31m---------------------------------------------------------------------------\u001b[0m",
      "\u001b[0;31mTypeError\u001b[0m                                 Traceback (most recent call last)",
      "Input \u001b[0;32mIn [61]\u001b[0m, in \u001b[0;36m<cell line: 2>\u001b[0;34m()\u001b[0m\n\u001b[1;32m      1\u001b[0m \u001b[38;5;66;03m#ans 38\u001b[39;00m\n\u001b[0;32m----> 2\u001b[0m dict1 \u001b[38;5;241m=\u001b[39m \u001b[38;5;28;43mdict\u001b[39;49m\u001b[43m(\u001b[49m\u001b[43m)\u001b[49m\n\u001b[1;32m      3\u001b[0m \u001b[38;5;28;01mfor\u001b[39;00m i \u001b[38;5;129;01min\u001b[39;00m \u001b[38;5;28mrange\u001b[39m (\u001b[38;5;241m1\u001b[39m,\u001b[38;5;241m16\u001b[39m):\n\u001b[1;32m      4\u001b[0m     dict1[i]\u001b[38;5;241m=\u001b[39m \u001b[38;5;28;01mNone\u001b[39;00m\n",
      "\u001b[0;31mTypeError\u001b[0m: 'dict' object is not callable"
     ]
    }
   ],
   "source": [
    "#ans 38\n",
    "dict1 = dict()\n",
    "for i in range (1,16):\n",
    "    dict1[i]= None\n",
    "print(dict1)\n",
    "    "
   ]
  },
  {
   "cell_type": "code",
   "execution_count": null,
   "id": "f4d25416",
   "metadata": {},
   "outputs": [],
   "source": [
    "#ans 39\n"
   ]
  },
  {
   "cell_type": "code",
   "execution_count": 63,
   "id": "3ecc4831",
   "metadata": {},
   "outputs": [
    {
     "name": "stdout",
     "output_type": "stream",
     "text": [
      "{1: 2, 3: 4, 5: 6, 7: 8, 9: 10, 11: 12}\n"
     ]
    }
   ],
   "source": [
    "#ans 40\n",
    "dict1 = {1:2,3:4,5:6}\n",
    "dict2 = {7:8,9:10,11:12}\n",
    "dict3 = dict1.copy()\n",
    "dict3.update(dict2)\n",
    "print(dict3)"
   ]
  },
  {
   "cell_type": "code",
   "execution_count": 65,
   "id": "0c92d2ce",
   "metadata": {},
   "outputs": [
    {
     "ename": "TypeError",
     "evalue": "'dict' object is not callable",
     "output_type": "error",
     "traceback": [
      "\u001b[0;31m---------------------------------------------------------------------------\u001b[0m",
      "\u001b[0;31mTypeError\u001b[0m                                 Traceback (most recent call last)",
      "Input \u001b[0;32mIn [65]\u001b[0m, in \u001b[0;36m<cell line: 4>\u001b[0;34m()\u001b[0m\n\u001b[1;32m      2\u001b[0m list1 \u001b[38;5;241m=\u001b[39m [\u001b[38;5;124m'\u001b[39m\u001b[38;5;124mnitin\u001b[39m\u001b[38;5;124m'\u001b[39m,\u001b[38;5;124m'\u001b[39m\u001b[38;5;124maniket\u001b[39m\u001b[38;5;124m'\u001b[39m,\u001b[38;5;124m'\u001b[39m\u001b[38;5;124mpranav\u001b[39m\u001b[38;5;124m'\u001b[39m]\n\u001b[1;32m      3\u001b[0m list2 \u001b[38;5;241m=\u001b[39m [\u001b[38;5;241m1\u001b[39m,\u001b[38;5;241m2\u001b[39m,\u001b[38;5;241m3\u001b[39m]\n\u001b[0;32m----> 4\u001b[0m dict1 \u001b[38;5;241m=\u001b[39m \u001b[38;5;28;43mdict\u001b[39;49m\u001b[43m(\u001b[49m\u001b[38;5;28;43mzip\u001b[39;49m\u001b[43m(\u001b[49m\u001b[43mlist1\u001b[49m\u001b[43m,\u001b[49m\u001b[43mlist2\u001b[49m\u001b[43m)\u001b[49m\u001b[43m)\u001b[49m\n\u001b[1;32m      5\u001b[0m \u001b[38;5;28mprint\u001b[39m(dict1)\n",
      "\u001b[0;31mTypeError\u001b[0m: 'dict' object is not callable"
     ]
    }
   ],
   "source": [
    "#ans 41\n",
    "list1 = ['nitin','aniket','pranav']\n",
    "list2 = [1,2,3]\n",
    "dict1 = dict(zip(list1,list2))\n",
    "print(dict1)\n"
   ]
  },
  {
   "cell_type": "code",
   "execution_count": 66,
   "id": "a27e7cb7",
   "metadata": {},
   "outputs": [
    {
     "name": "stdout",
     "output_type": "stream",
     "text": [
      "{'a': 400, 'b': 400}\n"
     ]
    }
   ],
   "source": [
    "#ans 42\n",
    "d1 = {'a':100,'b':200,'c':300}\n",
    "d2 = {'a':300,'b':200,'d':400}\n",
    "d3 = {}\n",
    "for key in d1:\n",
    "    if key in d2:\n",
    "        d3[key]= d2[key]+d1[key]\n",
    "print(d3)"
   ]
  },
  {
   "cell_type": "code",
   "execution_count": 68,
   "id": "60ef9a86",
   "metadata": {},
   "outputs": [
    {
     "name": "stdout",
     "output_type": "stream",
     "text": [
      "{1, 2, 4}\n"
     ]
    }
   ],
   "source": [
    "#ans 43\n",
    "dict1 = {'a':1,'b':2,'c':2,'d':4}\n",
    "dict2 = set (dict1.values())\n",
    "print(dict2)"
   ]
  },
  {
   "cell_type": "code",
   "execution_count": null,
   "id": "2758ff2e",
   "metadata": {},
   "outputs": [],
   "source": [
    "#ans 44\n",
    "#ans - to bind object of multiple collection."
   ]
  },
  {
   "cell_type": "code",
   "execution_count": 69,
   "id": "d541e91f",
   "metadata": {},
   "outputs": [],
   "source": [
    "#ans 45\n",
    "dic = {'1':['a','b'],'2':['c','d']}\n"
   ]
  },
  {
   "cell_type": "code",
   "execution_count": null,
   "id": "15e929e3",
   "metadata": {},
   "outputs": [],
   "source": [
    "#ans 46"
   ]
  }
 ],
 "metadata": {
  "kernelspec": {
   "display_name": "Python 3 (ipykernel)",
   "language": "python",
   "name": "python3"
  },
  "language_info": {
   "codemirror_mode": {
    "name": "ipython",
    "version": 3
   },
   "file_extension": ".py",
   "mimetype": "text/x-python",
   "name": "python",
   "nbconvert_exporter": "python",
   "pygments_lexer": "ipython3",
   "version": "3.9.12"
  }
 },
 "nbformat": 4,
 "nbformat_minor": 5
}
